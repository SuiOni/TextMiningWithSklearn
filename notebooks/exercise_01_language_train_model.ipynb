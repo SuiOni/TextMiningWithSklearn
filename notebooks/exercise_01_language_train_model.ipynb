{
 "metadata": {
  "name": ""
 },
 "nbformat": 3,
 "nbformat_minor": 0,
 "worksheets": [
  {
   "cells": [
    {
     "cell_type": "code",
     "collapsed": false,
     "input": [
      "# fetch data\n",
      "from sklearn.datasets import fetch_20newsgroups\n",
      "dataset = fetch_20newsgroups()"
     ],
     "language": "python",
     "metadata": {},
     "outputs": [],
     "prompt_number": 1
    },
    {
     "cell_type": "code",
     "collapsed": false,
     "input": [
      "# display data info\n",
      "import sys\n",
      "print sys.getsizeof(dataset)\n",
      "print len(dataset.data)\n",
      "print dataset.target_names\n",
      "print dataset.target"
     ],
     "language": "python",
     "metadata": {},
     "outputs": [
      {
       "output_type": "stream",
       "stream": "stdout",
       "text": [
        "272\n",
        "11314\n",
        "['alt.atheism', 'comp.graphics', 'comp.os.ms-windows.misc', 'comp.sys.ibm.pc.hardware', 'comp.sys.mac.hardware', 'comp.windows.x', 'misc.forsale', 'rec.autos', 'rec.motorcycles', 'rec.sport.baseball', 'rec.sport.hockey', 'sci.crypt', 'sci.electronics', 'sci.med', 'sci.space', 'soc.religion.christian', 'talk.politics.guns', 'talk.politics.mideast', 'talk.politics.misc', 'talk.religion.misc']\n",
        "[7 4 4 ..., 3 1 8]\n"
       ]
      }
     ],
     "prompt_number": 2
    },
    {
     "cell_type": "code",
     "collapsed": false,
     "input": [
      "# Transform data and obtain word count\n",
      "import sklearn.feature_extraction.text as tx\n",
      "count_transformer = tx.CountVectorizer(ngram_range=(1,2))\n",
      "data_count = count_transformer.fit_transform(dataset.data)"
     ],
     "language": "python",
     "metadata": {},
     "outputs": [],
     "prompt_number": 12
    },
    {
     "cell_type": "code",
     "collapsed": false,
     "input": [
      "# Obtain tfidf\n",
      "tfidf_transformer = tx.TfidfTransformer()\n",
      "data_tfidf = tfidf_transformer.fit_transform(data_count)"
     ],
     "language": "python",
     "metadata": {},
     "outputs": [],
     "prompt_number": 13
    },
    {
     "cell_type": "code",
     "collapsed": false,
     "input": [
      "# display transformed data info\n",
      "print data_tfidf.shape\n",
      "print len(count_transformer.vocabulary_)\n",
      "print len(count_transformer.stop_words_)"
     ],
     "language": "python",
     "metadata": {},
     "outputs": [
      {
       "output_type": "stream",
       "stream": "stdout",
       "text": [
        "(11314, 1181803)\n",
        "1181803\n",
        "0\n"
       ]
      }
     ],
     "prompt_number": 14
    },
    {
     "cell_type": "code",
     "collapsed": false,
     "input": [
      "# Choose classifier\n",
      "import sklearn.naive_bayes as nb\n",
      "clf = nb.MultinomialNB()"
     ],
     "language": "python",
     "metadata": {},
     "outputs": [],
     "prompt_number": 15
    },
    {
     "cell_type": "code",
     "collapsed": false,
     "input": [
      "# Train and Predict\n",
      "clf.fit(data_tfidf, dataset.target)\n",
      "test_count = count_transformer.transform(['God is love', 'intel makes the best processor'])\n",
      "test_tfidf = tfidf_transformer.transform(test_count)\n",
      "res = clf.predict(test_tfidf)\n",
      "for i in res: print dataset.target_names[i]"
     ],
     "language": "python",
     "metadata": {},
     "outputs": [
      {
       "output_type": "stream",
       "stream": "stdout",
       "text": [
        "soc.religion.christian\n",
        "comp.sys.mac.hardware\n"
       ]
      }
     ],
     "prompt_number": 16
    },
    {
     "cell_type": "code",
     "collapsed": false,
     "input": [
      "# Pipeline the classification procedure\n",
      "import sklearn.pipeline as pp\n",
      "pipeline = pp.Pipeline([('vect', tx.CountVectorizer()),\n",
      "                        ('tfidf', tx.TfidfTransformer()),\n",
      "                        ('clf', nb.MultinomialNB()),])\n",
      "\n",
      "parameters = {\n",
      "            'tfidf__use_idf': (True, False),\n",
      "            'clf__alpha': (1e-2,1e-3),\n",
      "            }"
     ],
     "language": "python",
     "metadata": {},
     "outputs": [],
     "prompt_number": 22
    },
    {
     "cell_type": "code",
     "collapsed": false,
     "input": [
      "# Grid search for optimal parameter\n",
      "import sklearn.grid_search as gs\n",
      "gs_clf = gs.GridSearchCV(pipeline, parameters, n_jobs=1)\n",
      "gs_clf.fit(dataset.data, dataset.target)  # remember to use original data as training"
     ],
     "language": "python",
     "metadata": {},
     "outputs": [
      {
       "metadata": {},
       "output_type": "pyout",
       "prompt_number": 23,
       "text": [
        "GridSearchCV(cv=None,\n",
        "       estimator=Pipeline(steps=[('vect', CountVectorizer(analyzer=u'word', binary=False, charset=None,\n",
        "        charset_error=None, decode_error=u'strict',\n",
        "        dtype=<type 'numpy.int64'>, encoding=u'utf-8', input=u'content',\n",
        "        lowercase=True, max_df=1.0, max_features=None, min_df=1,\n",
        "        ngram_range=(1, 1), prep...False,\n",
        "         use_idf=True)), ('clf', MultinomialNB(alpha=1.0, class_prior=None, fit_prior=True))]),\n",
        "       fit_params={}, iid=True, loss_func=None, n_jobs=1,\n",
        "       param_grid={'tfidf__use_idf': (True, False), 'clf__alpha': (0.01, 0.001)},\n",
        "       pre_dispatch='2*n_jobs', refit=True, score_func=None, scoring=None,\n",
        "       verbose=0)"
       ]
      }
     ],
     "prompt_number": 23
    },
    {
     "cell_type": "code",
     "collapsed": false,
     "input": [
      "print gs_clf.best_score_\n",
      "print gs_clf.best_params_"
     ],
     "language": "python",
     "metadata": {},
     "outputs": [
      {
       "output_type": "stream",
       "stream": "stdout",
       "text": [
        "0.905073360438\n",
        "{'tfidf__use_idf': True, 'clf__alpha': 0.01}\n"
       ]
      }
     ],
     "prompt_number": 24
    },
    {
     "cell_type": "code",
     "collapsed": false,
     "input": [
      "# Predict the new instance\n",
      "dd = ['God is love', 'intel makes the best processor']\n",
      "res = gs_clf.predict(dd)\n",
      "\n",
      "for i in res:\n",
      "    print dataset.target_names[i]\n"
     ],
     "language": "python",
     "metadata": {},
     "outputs": [
      {
       "output_type": "stream",
       "stream": "stdout",
       "text": [
        "[15  4]\n"
       ]
      },
      {
       "output_type": "stream",
       "stream": "stdout",
       "text": [
        "soc.religion.christian\n",
        "comp.sys.mac.hardware\n"
       ]
      }
     ],
     "prompt_number": 26
    }
   ],
   "metadata": {}
  }
 ]
}